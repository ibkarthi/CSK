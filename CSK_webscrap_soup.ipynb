{
 "cells": [
  {
   "cell_type": "code",
   "execution_count": 1,
   "id": "dce4ddc9",
   "metadata": {},
   "outputs": [],
   "source": [
    "import requests\n",
    "from bs4 import BeautifulSoup\n",
    "import pandas as pd\n",
    "import numpy as np"
   ]
  },
  {
   "cell_type": "code",
   "execution_count": null,
   "id": "d3829429",
   "metadata": {},
   "outputs": [],
   "source": [
    "page = requests.get('http://www.howstat.com/cricket/Statistics/IPL/SeriesMatches.asp?s=2008')\n",
    "page"
   ]
  },
  {
   "cell_type": "code",
   "execution_count": null,
   "id": "8f1741bf",
   "metadata": {
    "scrolled": true
   },
   "outputs": [],
   "source": [
    "page.status_code"
   ]
  },
  {
   "cell_type": "code",
   "execution_count": 5,
   "id": "4fe4e0f2",
   "metadata": {},
   "outputs": [],
   "source": [
    "soup = BeautifulSoup(page.content, 'html.parser')"
   ]
  },
  {
   "cell_type": "code",
   "execution_count": 7,
   "id": "c208778f",
   "metadata": {},
   "outputs": [],
   "source": [
    "html = list(soup.children)[3]"
   ]
  },
  {
   "cell_type": "code",
   "execution_count": null,
   "id": "4b4ee2b5",
   "metadata": {
    "scrolled": true
   },
   "outputs": [],
   "source": [
    "list(html.children)"
   ]
  },
  {
   "cell_type": "code",
   "execution_count": 9,
   "id": "813aa98a",
   "metadata": {},
   "outputs": [],
   "source": [
    "body = list(html.children)[5]"
   ]
  },
  {
   "cell_type": "code",
   "execution_count": null,
   "id": "ebcc371a",
   "metadata": {
    "scrolled": true
   },
   "outputs": [],
   "source": [
    "list(body.children)"
   ]
  },
  {
   "cell_type": "code",
   "execution_count": 3,
   "id": "8326006d",
   "metadata": {},
   "outputs": [],
   "source": [
    "url = 'http://www.howstat.com/cricket/Statistics/IPL/SeriesMatches.asp?s'"
   ]
  },
  {
   "cell_type": "code",
   "execution_count": 4,
   "id": "a814d103",
   "metadata": {},
   "outputs": [],
   "source": [
    "def get_table(year, url=url):\n",
    "    year_url = f'{url}={year}'\n",
    "    page = requests.get(year_url)\n",
    "    soup = BeautifulSoup(page.text, 'html.parser')\n",
    "    \n",
    "    rows = []\n",
    "    for child in soup.find_all('table', {'class':'TableLined'})[0].children:\n",
    "        row = []\n",
    "        for td in child:\n",
    "            try:\n",
    "                row.append(td.text.replace('\\n', ''))\n",
    "            except:\n",
    "                continue\n",
    "        if len(row) > 0:\n",
    "            rows.append(row)\n",
    "\n",
    "    df = pd.DataFrame(rows[1:], columns=rows[0])\n",
    "    return df"
   ]
  },
  {
   "cell_type": "code",
   "execution_count": 7,
   "id": "b8dddfa0",
   "metadata": {},
   "outputs": [],
   "source": [
    "ipl = pd.DataFrame()"
   ]
  },
  {
   "cell_type": "code",
   "execution_count": 8,
   "id": "e488ddbc",
   "metadata": {},
   "outputs": [],
   "source": [
    "for year in range(2008, 2022):\n",
    "    table = get_table(year)\n",
    "    ipl = ipl.append(table)"
   ]
  },
  {
   "cell_type": "code",
   "execution_count": 9,
   "id": "d82f2c86",
   "metadata": {
    "scrolled": true
   },
   "outputs": [
    {
     "data": {
      "text/html": [
       "<div>\n",
       "<style scoped>\n",
       "    .dataframe tbody tr th:only-of-type {\n",
       "        vertical-align: middle;\n",
       "    }\n",
       "\n",
       "    .dataframe tbody tr th {\n",
       "        vertical-align: top;\n",
       "    }\n",
       "\n",
       "    .dataframe thead th {\n",
       "        text-align: right;\n",
       "    }\n",
       "</style>\n",
       "<table border=\"1\" class=\"dataframe\">\n",
       "  <thead>\n",
       "    <tr style=\"text-align: right;\">\n",
       "      <th></th>\n",
       "      <th></th>\n",
       "      <th>\\r                        Match\\r</th>\n",
       "      <th></th>\n",
       "      <th>\\r                        Date\\r</th>\n",
       "      <th></th>\n",
       "      <th>\\r                        Teams\\r</th>\n",
       "      <th></th>\n",
       "      <th>\\r                        Ground\\r</th>\n",
       "      <th></th>\n",
       "      <th>\\r                        Result\\r</th>\n",
       "      <th></th>\n",
       "      <th>\\r                         \\r</th>\n",
       "      <th></th>\n",
       "    </tr>\n",
       "  </thead>\n",
       "  <tbody>\n",
       "    <tr>\n",
       "      <th>52</th>\n",
       "      <td></td>\n",
       "      <td>\\r                          53\\r\\t\\t\\t\\t\\t\\t\\t...</td>\n",
       "      <td></td>\n",
       "      <td>\\r                          04/05/2019\\r      ...</td>\n",
       "      <td></td>\n",
       "      <td>\\r                          Delhi Capitals v R...</td>\n",
       "      <td></td>\n",
       "      <td>\\r\\t\\t\\t\\t\\t\\t\\t\\t\\t\\t\\t\\t\\tDelhi\\r           ...</td>\n",
       "      <td></td>\n",
       "      <td>\\r                          Delhi Capitals won...</td>\n",
       "      <td></td>\n",
       "      <td>Scorecard</td>\n",
       "      <td></td>\n",
       "    </tr>\n",
       "    <tr>\n",
       "      <th>53</th>\n",
       "      <td></td>\n",
       "      <td>\\r                          54\\r\\t\\t\\t\\t\\t\\t\\t...</td>\n",
       "      <td></td>\n",
       "      <td>\\r                          18/04/2010\\r      ...</td>\n",
       "      <td></td>\n",
       "      <td>\\r                          Punjab Kings v Che...</td>\n",
       "      <td></td>\n",
       "      <td>\\r\\t\\t\\t\\t\\t\\t\\t\\t\\t\\t\\t\\t\\tDharamsala\\r      ...</td>\n",
       "      <td></td>\n",
       "      <td>\\r                          Chennai Super King...</td>\n",
       "      <td></td>\n",
       "      <td>Scorecard</td>\n",
       "      <td></td>\n",
       "    </tr>\n",
       "    <tr>\n",
       "      <th>5</th>\n",
       "      <td></td>\n",
       "      <td>\\r                          6\\r\\t\\t\\t\\t\\t\\t\\t\\...</td>\n",
       "      <td></td>\n",
       "      <td>\\r                          14/04/2021\\r      ...</td>\n",
       "      <td></td>\n",
       "      <td>\\r                          Royal Challengers ...</td>\n",
       "      <td></td>\n",
       "      <td>\\r\\t\\t\\t\\t\\t\\t\\t\\t\\t\\t\\t\\t\\tChennai\\r         ...</td>\n",
       "      <td></td>\n",
       "      <td>\\r                          Royal Challengers ...</td>\n",
       "      <td></td>\n",
       "      <td>Scorecard</td>\n",
       "      <td></td>\n",
       "    </tr>\n",
       "    <tr>\n",
       "      <th>34</th>\n",
       "      <td></td>\n",
       "      <td>\\r                          35\\r\\t\\t\\t\\t\\t\\t\\t...</td>\n",
       "      <td></td>\n",
       "      <td>\\r                          29/04/2011\\r      ...</td>\n",
       "      <td></td>\n",
       "      <td>\\r                          Royal Challengers ...</td>\n",
       "      <td></td>\n",
       "      <td>\\r\\t\\t\\t\\t\\t\\t\\t\\t\\t\\t\\t\\t\\tBengaluru, Bangalo...</td>\n",
       "      <td></td>\n",
       "      <td>\\r                          Royal Challengers ...</td>\n",
       "      <td></td>\n",
       "      <td>Scorecard</td>\n",
       "      <td></td>\n",
       "    </tr>\n",
       "    <tr>\n",
       "      <th>33</th>\n",
       "      <td></td>\n",
       "      <td>\\r                          34\\r\\t\\t\\t\\t\\t\\t\\t...</td>\n",
       "      <td></td>\n",
       "      <td>\\r                          02/05/2015\\r      ...</td>\n",
       "      <td></td>\n",
       "      <td>\\r                          Sunrisers Hyderaba...</td>\n",
       "      <td></td>\n",
       "      <td>\\r\\t\\t\\t\\t\\t\\t\\t\\t\\t\\t\\t\\t\\tHyderabad\\r       ...</td>\n",
       "      <td></td>\n",
       "      <td>\\r                          Sunrisers Hyderaba...</td>\n",
       "      <td></td>\n",
       "      <td>Scorecard</td>\n",
       "      <td></td>\n",
       "    </tr>\n",
       "    <tr>\n",
       "      <th>36</th>\n",
       "      <td></td>\n",
       "      <td>\\r                          37\\r\\t\\t\\t\\t\\t\\t\\t...</td>\n",
       "      <td></td>\n",
       "      <td>\\r                          28/04/2012\\r      ...</td>\n",
       "      <td></td>\n",
       "      <td>\\r                          Chennai Super King...</td>\n",
       "      <td></td>\n",
       "      <td>\\r\\t\\t\\t\\t\\t\\t\\t\\t\\t\\t\\t\\t\\tChennai\\r         ...</td>\n",
       "      <td></td>\n",
       "      <td>\\r                          Punjab Kings won b...</td>\n",
       "      <td></td>\n",
       "      <td>Scorecard</td>\n",
       "      <td></td>\n",
       "    </tr>\n",
       "    <tr>\n",
       "      <th>2</th>\n",
       "      <td></td>\n",
       "      <td>\\r                          3\\r\\t\\t\\t\\t\\t\\t\\t\\...</td>\n",
       "      <td></td>\n",
       "      <td>\\r                          08/04/2018\\r      ...</td>\n",
       "      <td></td>\n",
       "      <td>\\r                          Kolkata Knight Rid...</td>\n",
       "      <td></td>\n",
       "      <td>\\r\\t\\t\\t\\t\\t\\t\\t\\t\\t\\t\\t\\t\\tKolkata\\r         ...</td>\n",
       "      <td></td>\n",
       "      <td>\\r                          Kolkata Knight Rid...</td>\n",
       "      <td></td>\n",
       "      <td>Scorecard</td>\n",
       "      <td></td>\n",
       "    </tr>\n",
       "    <tr>\n",
       "      <th>25</th>\n",
       "      <td></td>\n",
       "      <td>\\r                          26\\r\\t\\t\\t\\t\\t\\t\\t...</td>\n",
       "      <td></td>\n",
       "      <td>\\r                          27/04/2018\\r      ...</td>\n",
       "      <td></td>\n",
       "      <td>\\r                          Delhi Capitals v K...</td>\n",
       "      <td></td>\n",
       "      <td>\\r\\t\\t\\t\\t\\t\\t\\t\\t\\t\\t\\t\\t\\tDelhi\\r           ...</td>\n",
       "      <td></td>\n",
       "      <td>\\r                          Delhi Capitals won...</td>\n",
       "      <td></td>\n",
       "      <td>Scorecard</td>\n",
       "      <td></td>\n",
       "    </tr>\n",
       "    <tr>\n",
       "      <th>30</th>\n",
       "      <td></td>\n",
       "      <td>\\r                          31\\r\\t\\t\\t\\t\\t\\t\\t...</td>\n",
       "      <td></td>\n",
       "      <td>\\r                          15/04/2019\\r      ...</td>\n",
       "      <td></td>\n",
       "      <td>\\r                          Mumbai Indians v R...</td>\n",
       "      <td></td>\n",
       "      <td>\\r\\t\\t\\t\\t\\t\\t\\t\\t\\t\\t\\t\\t\\tMumbai\\r          ...</td>\n",
       "      <td></td>\n",
       "      <td>\\r                          Mumbai Indians won...</td>\n",
       "      <td></td>\n",
       "      <td>Scorecard</td>\n",
       "      <td></td>\n",
       "    </tr>\n",
       "    <tr>\n",
       "      <th>16</th>\n",
       "      <td></td>\n",
       "      <td>\\r                          17\\r\\t\\t\\t\\t\\t\\t\\t...</td>\n",
       "      <td></td>\n",
       "      <td>\\r                          22/03/2010\\r      ...</td>\n",
       "      <td></td>\n",
       "      <td>\\r                          Mumbai Indians v K...</td>\n",
       "      <td></td>\n",
       "      <td>\\r\\t\\t\\t\\t\\t\\t\\t\\t\\t\\t\\t\\t\\tMumbai\\r          ...</td>\n",
       "      <td></td>\n",
       "      <td>\\r                          Mumbai Indians won...</td>\n",
       "      <td></td>\n",
       "      <td>Scorecard</td>\n",
       "      <td></td>\n",
       "    </tr>\n",
       "  </tbody>\n",
       "</table>\n",
       "</div>"
      ],
      "text/plain": [
       "     \\r                        Match\\r                          \\\n",
       "52    \\r                          53\\r\\t\\t\\t\\t\\t\\t\\t...          \n",
       "53    \\r                          54\\r\\t\\t\\t\\t\\t\\t\\t...          \n",
       "5     \\r                          6\\r\\t\\t\\t\\t\\t\\t\\t\\...          \n",
       "34    \\r                          35\\r\\t\\t\\t\\t\\t\\t\\t...          \n",
       "33    \\r                          34\\r\\t\\t\\t\\t\\t\\t\\t...          \n",
       "36    \\r                          37\\r\\t\\t\\t\\t\\t\\t\\t...          \n",
       "2     \\r                          3\\r\\t\\t\\t\\t\\t\\t\\t\\...          \n",
       "25    \\r                          26\\r\\t\\t\\t\\t\\t\\t\\t...          \n",
       "30    \\r                          31\\r\\t\\t\\t\\t\\t\\t\\t...          \n",
       "16    \\r                          17\\r\\t\\t\\t\\t\\t\\t\\t...          \n",
       "\n",
       "   \\r                        Date\\r                          \\\n",
       "52  \\r                          04/05/2019\\r      ...         \n",
       "53  \\r                          18/04/2010\\r      ...         \n",
       "5   \\r                          14/04/2021\\r      ...         \n",
       "34  \\r                          29/04/2011\\r      ...         \n",
       "33  \\r                          02/05/2015\\r      ...         \n",
       "36  \\r                          28/04/2012\\r      ...         \n",
       "2   \\r                          08/04/2018\\r      ...         \n",
       "25  \\r                          27/04/2018\\r      ...         \n",
       "30  \\r                          15/04/2019\\r      ...         \n",
       "16  \\r                          22/03/2010\\r      ...         \n",
       "\n",
       "   \\r                        Teams\\r                          \\\n",
       "52  \\r                          Delhi Capitals v R...          \n",
       "53  \\r                          Punjab Kings v Che...          \n",
       "5   \\r                          Royal Challengers ...          \n",
       "34  \\r                          Royal Challengers ...          \n",
       "33  \\r                          Sunrisers Hyderaba...          \n",
       "36  \\r                          Chennai Super King...          \n",
       "2   \\r                          Kolkata Knight Rid...          \n",
       "25  \\r                          Delhi Capitals v K...          \n",
       "30  \\r                          Mumbai Indians v R...          \n",
       "16  \\r                          Mumbai Indians v K...          \n",
       "\n",
       "   \\r                        Ground\\r                          \\\n",
       "52  \\r\\t\\t\\t\\t\\t\\t\\t\\t\\t\\t\\t\\t\\tDelhi\\r           ...           \n",
       "53  \\r\\t\\t\\t\\t\\t\\t\\t\\t\\t\\t\\t\\t\\tDharamsala\\r      ...           \n",
       "5   \\r\\t\\t\\t\\t\\t\\t\\t\\t\\t\\t\\t\\t\\tChennai\\r         ...           \n",
       "34  \\r\\t\\t\\t\\t\\t\\t\\t\\t\\t\\t\\t\\t\\tBengaluru, Bangalo...           \n",
       "33  \\r\\t\\t\\t\\t\\t\\t\\t\\t\\t\\t\\t\\t\\tHyderabad\\r       ...           \n",
       "36  \\r\\t\\t\\t\\t\\t\\t\\t\\t\\t\\t\\t\\t\\tChennai\\r         ...           \n",
       "2   \\r\\t\\t\\t\\t\\t\\t\\t\\t\\t\\t\\t\\t\\tKolkata\\r         ...           \n",
       "25  \\r\\t\\t\\t\\t\\t\\t\\t\\t\\t\\t\\t\\t\\tDelhi\\r           ...           \n",
       "30  \\r\\t\\t\\t\\t\\t\\t\\t\\t\\t\\t\\t\\t\\tMumbai\\r          ...           \n",
       "16  \\r\\t\\t\\t\\t\\t\\t\\t\\t\\t\\t\\t\\t\\tMumbai\\r          ...           \n",
       "\n",
       "   \\r                        Result\\r                          \\\n",
       "52  \\r                          Delhi Capitals won...           \n",
       "53  \\r                          Chennai Super King...           \n",
       "5   \\r                          Royal Challengers ...           \n",
       "34  \\r                          Royal Challengers ...           \n",
       "33  \\r                          Sunrisers Hyderaba...           \n",
       "36  \\r                          Punjab Kings won b...           \n",
       "2   \\r                          Kolkata Knight Rid...           \n",
       "25  \\r                          Delhi Capitals won...           \n",
       "30  \\r                          Mumbai Indians won...           \n",
       "16  \\r                          Mumbai Indians won...           \n",
       "\n",
       "   \\r                         \\r                          \n",
       "52                                          Scorecard     \n",
       "53                                          Scorecard     \n",
       "5                                           Scorecard     \n",
       "34                                          Scorecard     \n",
       "33                                          Scorecard     \n",
       "36                                          Scorecard     \n",
       "2                                           Scorecard     \n",
       "25                                          Scorecard     \n",
       "30                                          Scorecard     \n",
       "16                                          Scorecard     "
      ]
     },
     "execution_count": 9,
     "metadata": {},
     "output_type": "execute_result"
    }
   ],
   "source": [
    "ipl.sample(10)"
   ]
  },
  {
   "cell_type": "code",
   "execution_count": 10,
   "id": "0fe9bf61",
   "metadata": {},
   "outputs": [
    {
     "data": {
      "text/plain": [
       "(884, 13)"
      ]
     },
     "execution_count": 10,
     "metadata": {},
     "output_type": "execute_result"
    }
   ],
   "source": [
    "ipl.shape"
   ]
  },
  {
   "cell_type": "code",
   "execution_count": 11,
   "id": "1f39cb42",
   "metadata": {},
   "outputs": [],
   "source": [
    "ipl.columns = ['', 'Match', '','Date', '','Teams', '','Ground', '','Result', '','Score', '']\n",
    "ipl = ipl[['Match', 'Date', 'Teams', 'Ground', 'Result', 'Score']]\n",
    "ipl['Match'] = ipl['Match'].str.lstrip('\\r                          ').str.rstrip('\\r\\t\\t\\t\\t\\t\\t\\t\\t\\t\\t\\t\\t')\n",
    "ipl['Date'] = ipl['Date'].str.lstrip('\\r                          ').str.rstrip('\\r                        ')\n",
    "ipl['Teams'] = ipl['Teams'].str.lstrip('\\r                          ').str.rstrip('\\r                        ')\n",
    "ipl['Ground'] = ipl['Ground'].str.lstrip('\\r\\t\\t\\t\\t\\t\\t\\t\\t\\t\\t\\t\\t\\t').str.rstrip('\\r                        ')\n",
    "ipl['Result'] = ipl['Result'].str.lstrip('\\r                          ').str.rstrip('\\r                        ')\n",
    "ipl.drop('Score', axis = 1, inplace = True)"
   ]
  },
  {
   "cell_type": "code",
   "execution_count": 12,
   "id": "d59c11c9",
   "metadata": {},
   "outputs": [
    {
     "data": {
      "text/html": [
       "<div>\n",
       "<style scoped>\n",
       "    .dataframe tbody tr th:only-of-type {\n",
       "        vertical-align: middle;\n",
       "    }\n",
       "\n",
       "    .dataframe tbody tr th {\n",
       "        vertical-align: top;\n",
       "    }\n",
       "\n",
       "    .dataframe thead th {\n",
       "        text-align: right;\n",
       "    }\n",
       "</style>\n",
       "<table border=\"1\" class=\"dataframe\">\n",
       "  <thead>\n",
       "    <tr style=\"text-align: right;\">\n",
       "      <th></th>\n",
       "      <th>Match</th>\n",
       "      <th>Date</th>\n",
       "      <th>Teams</th>\n",
       "      <th>Ground</th>\n",
       "      <th>Result</th>\n",
       "    </tr>\n",
       "  </thead>\n",
       "  <tbody>\n",
       "    <tr>\n",
       "      <th>0</th>\n",
       "      <td>1</td>\n",
       "      <td>18/04/2008</td>\n",
       "      <td>Royal Challengers Bangalore v Kolkata Knight R...</td>\n",
       "      <td>Bengaluru, Bangalore</td>\n",
       "      <td>Kolkata Knight Riders won by 140 Runs</td>\n",
       "    </tr>\n",
       "    <tr>\n",
       "      <th>1</th>\n",
       "      <td>2</td>\n",
       "      <td>19/04/2008</td>\n",
       "      <td>Punjab Kings v Chennai Super Kings</td>\n",
       "      <td>Mohali, Chandigarh</td>\n",
       "      <td>Chennai Super Kings won by 33 Runs</td>\n",
       "    </tr>\n",
       "    <tr>\n",
       "      <th>2</th>\n",
       "      <td>3</td>\n",
       "      <td>19/04/2008</td>\n",
       "      <td>Delhi Capitals v Rajasthan Royals</td>\n",
       "      <td>Delhi</td>\n",
       "      <td>Delhi Capitals won by 9 Wickets</td>\n",
       "    </tr>\n",
       "    <tr>\n",
       "      <th>3</th>\n",
       "      <td>4</td>\n",
       "      <td>20/04/2008</td>\n",
       "      <td>Kolkata Knight Riders v Deccan Chargers</td>\n",
       "      <td>Kolkata</td>\n",
       "      <td>Kolkata Knight Riders won by 5 Wickets</td>\n",
       "    </tr>\n",
       "    <tr>\n",
       "      <th>4</th>\n",
       "      <td>5</td>\n",
       "      <td>20/04/2008</td>\n",
       "      <td>Mumbai Indians v Royal Challengers Bangalore</td>\n",
       "      <td>Mumbai</td>\n",
       "      <td>Royal Challengers Bangalore won by 5 Wickets</td>\n",
       "    </tr>\n",
       "  </tbody>\n",
       "</table>\n",
       "</div>"
      ],
      "text/plain": [
       "  Match        Date                                              Teams  \\\n",
       "0     1  18/04/2008  Royal Challengers Bangalore v Kolkata Knight R...   \n",
       "1     2  19/04/2008                 Punjab Kings v Chennai Super Kings   \n",
       "2     3  19/04/2008                  Delhi Capitals v Rajasthan Royals   \n",
       "3     4  20/04/2008            Kolkata Knight Riders v Deccan Chargers   \n",
       "4     5  20/04/2008       Mumbai Indians v Royal Challengers Bangalore   \n",
       "\n",
       "                 Ground                                        Result  \n",
       "0  Bengaluru, Bangalore         Kolkata Knight Riders won by 140 Runs  \n",
       "1    Mohali, Chandigarh            Chennai Super Kings won by 33 Runs  \n",
       "2                 Delhi               Delhi Capitals won by 9 Wickets  \n",
       "3               Kolkata        Kolkata Knight Riders won by 5 Wickets  \n",
       "4                Mumbai  Royal Challengers Bangalore won by 5 Wickets  "
      ]
     },
     "execution_count": 12,
     "metadata": {},
     "output_type": "execute_result"
    }
   ],
   "source": [
    "ipl.head()"
   ]
  },
  {
   "cell_type": "code",
   "execution_count": 13,
   "id": "30aa8232",
   "metadata": {},
   "outputs": [
    {
     "data": {
      "text/plain": [
       "(884, 5)"
      ]
     },
     "execution_count": 13,
     "metadata": {},
     "output_type": "execute_result"
    }
   ],
   "source": [
    "ipl.shape"
   ]
  },
  {
   "cell_type": "code",
   "execution_count": 14,
   "id": "127c3db0",
   "metadata": {},
   "outputs": [],
   "source": [
    "ipl.to_csv('ipl_t20(soup).csv')"
   ]
  },
  {
   "cell_type": "code",
   "execution_count": null,
   "id": "a21e8056",
   "metadata": {},
   "outputs": [],
   "source": []
  }
 ],
 "metadata": {
  "kernelspec": {
   "display_name": "Python 3 (ipykernel)",
   "language": "python",
   "name": "python3"
  },
  "language_info": {
   "codemirror_mode": {
    "name": "ipython",
    "version": 3
   },
   "file_extension": ".py",
   "mimetype": "text/x-python",
   "name": "python",
   "nbconvert_exporter": "python",
   "pygments_lexer": "ipython3",
   "version": "3.7.9"
  }
 },
 "nbformat": 4,
 "nbformat_minor": 5
}
