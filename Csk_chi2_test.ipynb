{
 "cells": [
  {
   "cell_type": "code",
   "execution_count": 1,
   "id": "275f1236",
   "metadata": {},
   "outputs": [],
   "source": [
    "import pandas as pd\n",
    "import numpy as np"
   ]
  },
  {
   "cell_type": "code",
   "execution_count": 2,
   "id": "ccb9092a",
   "metadata": {},
   "outputs": [],
   "source": [
    "from scipy import stats"
   ]
  },
  {
   "cell_type": "code",
   "execution_count": 3,
   "id": "f2c1c579",
   "metadata": {},
   "outputs": [
    {
     "data": {
      "text/html": [
       "<div>\n",
       "<style scoped>\n",
       "    .dataframe tbody tr th:only-of-type {\n",
       "        vertical-align: middle;\n",
       "    }\n",
       "\n",
       "    .dataframe tbody tr th {\n",
       "        vertical-align: top;\n",
       "    }\n",
       "\n",
       "    .dataframe thead th {\n",
       "        text-align: right;\n",
       "    }\n",
       "</style>\n",
       "<table border=\"1\" class=\"dataframe\">\n",
       "  <thead>\n",
       "    <tr style=\"text-align: right;\">\n",
       "      <th></th>\n",
       "      <th>Ground</th>\n",
       "      <th>Cskplayed</th>\n",
       "      <th>Cskwon</th>\n",
       "      <th>Win%</th>\n",
       "      <th>Lose%</th>\n",
       "    </tr>\n",
       "  </thead>\n",
       "  <tbody>\n",
       "    <tr>\n",
       "      <th>0</th>\n",
       "      <td>Chennai</td>\n",
       "      <td>56</td>\n",
       "      <td>40</td>\n",
       "      <td>71.43</td>\n",
       "      <td>28.57</td>\n",
       "    </tr>\n",
       "    <tr>\n",
       "      <th>1</th>\n",
       "      <td>Mumbai</td>\n",
       "      <td>25</td>\n",
       "      <td>15</td>\n",
       "      <td>60.00</td>\n",
       "      <td>40.00</td>\n",
       "    </tr>\n",
       "    <tr>\n",
       "      <th>2</th>\n",
       "      <td>Dubai</td>\n",
       "      <td>14</td>\n",
       "      <td>9</td>\n",
       "      <td>64.29</td>\n",
       "      <td>35.71</td>\n",
       "    </tr>\n",
       "    <tr>\n",
       "      <th>3</th>\n",
       "      <td>Kolkata</td>\n",
       "      <td>11</td>\n",
       "      <td>5</td>\n",
       "      <td>45.45</td>\n",
       "      <td>54.55</td>\n",
       "    </tr>\n",
       "    <tr>\n",
       "      <th>4</th>\n",
       "      <td>Delhi</td>\n",
       "      <td>10</td>\n",
       "      <td>7</td>\n",
       "      <td>70.00</td>\n",
       "      <td>30.00</td>\n",
       "    </tr>\n",
       "    <tr>\n",
       "      <th>5</th>\n",
       "      <td>Bengaluru</td>\n",
       "      <td>9</td>\n",
       "      <td>5</td>\n",
       "      <td>55.56</td>\n",
       "      <td>44.44</td>\n",
       "    </tr>\n",
       "    <tr>\n",
       "      <th>6</th>\n",
       "      <td>Pune</td>\n",
       "      <td>8</td>\n",
       "      <td>6</td>\n",
       "      <td>75.00</td>\n",
       "      <td>25.00</td>\n",
       "    </tr>\n",
       "    <tr>\n",
       "      <th>7</th>\n",
       "      <td>Abu Dhabi</td>\n",
       "      <td>8</td>\n",
       "      <td>4</td>\n",
       "      <td>50.00</td>\n",
       "      <td>50.00</td>\n",
       "    </tr>\n",
       "    <tr>\n",
       "      <th>8</th>\n",
       "      <td>Sharjah</td>\n",
       "      <td>6</td>\n",
       "      <td>3</td>\n",
       "      <td>50.00</td>\n",
       "      <td>50.00</td>\n",
       "    </tr>\n",
       "    <tr>\n",
       "      <th>9</th>\n",
       "      <td>Mohali</td>\n",
       "      <td>6</td>\n",
       "      <td>3</td>\n",
       "      <td>50.00</td>\n",
       "      <td>50.00</td>\n",
       "    </tr>\n",
       "    <tr>\n",
       "      <th>10</th>\n",
       "      <td>Jaipur</td>\n",
       "      <td>6</td>\n",
       "      <td>3</td>\n",
       "      <td>50.00</td>\n",
       "      <td>50.00</td>\n",
       "    </tr>\n",
       "    <tr>\n",
       "      <th>11</th>\n",
       "      <td>Hyderabad</td>\n",
       "      <td>6</td>\n",
       "      <td>3</td>\n",
       "      <td>50.00</td>\n",
       "      <td>50.00</td>\n",
       "    </tr>\n",
       "    <tr>\n",
       "      <th>12</th>\n",
       "      <td>Ranchi</td>\n",
       "      <td>5</td>\n",
       "      <td>3</td>\n",
       "      <td>60.00</td>\n",
       "      <td>40.00</td>\n",
       "    </tr>\n",
       "    <tr>\n",
       "      <th>13</th>\n",
       "      <td>Durban</td>\n",
       "      <td>4</td>\n",
       "      <td>1</td>\n",
       "      <td>25.00</td>\n",
       "      <td>75.00</td>\n",
       "    </tr>\n",
       "    <tr>\n",
       "      <th>14</th>\n",
       "      <td>Visakhapatnam</td>\n",
       "      <td>2</td>\n",
       "      <td>2</td>\n",
       "      <td>100.00</td>\n",
       "      <td>0.00</td>\n",
       "    </tr>\n",
       "    <tr>\n",
       "      <th>15</th>\n",
       "      <td>Port Elizabeth</td>\n",
       "      <td>2</td>\n",
       "      <td>2</td>\n",
       "      <td>100.00</td>\n",
       "      <td>0.00</td>\n",
       "    </tr>\n",
       "    <tr>\n",
       "      <th>16</th>\n",
       "      <td>Johannesburg</td>\n",
       "      <td>2</td>\n",
       "      <td>1</td>\n",
       "      <td>50.00</td>\n",
       "      <td>50.00</td>\n",
       "    </tr>\n",
       "    <tr>\n",
       "      <th>17</th>\n",
       "      <td>East London</td>\n",
       "      <td>2</td>\n",
       "      <td>2</td>\n",
       "      <td>100.00</td>\n",
       "      <td>0.00</td>\n",
       "    </tr>\n",
       "    <tr>\n",
       "      <th>18</th>\n",
       "      <td>Dharamsala</td>\n",
       "      <td>2</td>\n",
       "      <td>1</td>\n",
       "      <td>50.00</td>\n",
       "      <td>50.00</td>\n",
       "    </tr>\n",
       "    <tr>\n",
       "      <th>19</th>\n",
       "      <td>Centurion</td>\n",
       "      <td>2</td>\n",
       "      <td>1</td>\n",
       "      <td>50.00</td>\n",
       "      <td>50.00</td>\n",
       "    </tr>\n",
       "    <tr>\n",
       "      <th>20</th>\n",
       "      <td>Ahmedabad</td>\n",
       "      <td>2</td>\n",
       "      <td>0</td>\n",
       "      <td>0.00</td>\n",
       "      <td>100.00</td>\n",
       "    </tr>\n",
       "    <tr>\n",
       "      <th>21</th>\n",
       "      <td>Raipur</td>\n",
       "      <td>1</td>\n",
       "      <td>0</td>\n",
       "      <td>0.00</td>\n",
       "      <td>100.00</td>\n",
       "    </tr>\n",
       "    <tr>\n",
       "      <th>22</th>\n",
       "      <td>Nagpur</td>\n",
       "      <td>1</td>\n",
       "      <td>0</td>\n",
       "      <td>0.00</td>\n",
       "      <td>100.00</td>\n",
       "    </tr>\n",
       "    <tr>\n",
       "      <th>23</th>\n",
       "      <td>Kochi</td>\n",
       "      <td>1</td>\n",
       "      <td>0</td>\n",
       "      <td>0.00</td>\n",
       "      <td>100.00</td>\n",
       "    </tr>\n",
       "    <tr>\n",
       "      <th>24</th>\n",
       "      <td>Kimberley</td>\n",
       "      <td>1</td>\n",
       "      <td>1</td>\n",
       "      <td>100.00</td>\n",
       "      <td>0.00</td>\n",
       "    </tr>\n",
       "    <tr>\n",
       "      <th>25</th>\n",
       "      <td>Cuttack</td>\n",
       "      <td>1</td>\n",
       "      <td>0</td>\n",
       "      <td>0.00</td>\n",
       "      <td>100.00</td>\n",
       "    </tr>\n",
       "    <tr>\n",
       "      <th>26</th>\n",
       "      <td>Cape Town</td>\n",
       "      <td>1</td>\n",
       "      <td>0</td>\n",
       "      <td>0.00</td>\n",
       "      <td>100.00</td>\n",
       "    </tr>\n",
       "  </tbody>\n",
       "</table>\n",
       "</div>"
      ],
      "text/plain": [
       "            Ground  Cskplayed  Cskwon    Win%   Lose%\n",
       "0          Chennai         56      40   71.43   28.57\n",
       "1           Mumbai         25      15   60.00   40.00\n",
       "2            Dubai         14       9   64.29   35.71\n",
       "3          Kolkata         11       5   45.45   54.55\n",
       "4            Delhi         10       7   70.00   30.00\n",
       "5        Bengaluru          9       5   55.56   44.44\n",
       "6             Pune          8       6   75.00   25.00\n",
       "7        Abu Dhabi          8       4   50.00   50.00\n",
       "8          Sharjah          6       3   50.00   50.00\n",
       "9           Mohali          6       3   50.00   50.00\n",
       "10          Jaipur          6       3   50.00   50.00\n",
       "11       Hyderabad          6       3   50.00   50.00\n",
       "12          Ranchi          5       3   60.00   40.00\n",
       "13          Durban          4       1   25.00   75.00\n",
       "14   Visakhapatnam          2       2  100.00    0.00\n",
       "15  Port Elizabeth          2       2  100.00    0.00\n",
       "16    Johannesburg          2       1   50.00   50.00\n",
       "17     East London          2       2  100.00    0.00\n",
       "18      Dharamsala          2       1   50.00   50.00\n",
       "19       Centurion          2       1   50.00   50.00\n",
       "20       Ahmedabad          2       0    0.00  100.00\n",
       "21          Raipur          1       0    0.00  100.00\n",
       "22          Nagpur          1       0    0.00  100.00\n",
       "23           Kochi          1       0    0.00  100.00\n",
       "24       Kimberley          1       1  100.00    0.00\n",
       "25         Cuttack          1       0    0.00  100.00\n",
       "26       Cape Town          1       0    0.00  100.00"
      ]
     },
     "execution_count": 3,
     "metadata": {},
     "output_type": "execute_result"
    }
   ],
   "source": [
    "pitch = pd.read_csv('pitchwin.csv')\n",
    "pitch"
   ]
  },
  {
   "cell_type": "code",
   "execution_count": 4,
   "id": "7f9fa9b0",
   "metadata": {},
   "outputs": [
    {
     "data": {
      "text/html": [
       "<div>\n",
       "<style scoped>\n",
       "    .dataframe tbody tr th:only-of-type {\n",
       "        vertical-align: middle;\n",
       "    }\n",
       "\n",
       "    .dataframe tbody tr th {\n",
       "        vertical-align: top;\n",
       "    }\n",
       "\n",
       "    .dataframe thead th {\n",
       "        text-align: right;\n",
       "    }\n",
       "</style>\n",
       "<table border=\"1\" class=\"dataframe\">\n",
       "  <thead>\n",
       "    <tr style=\"text-align: right;\">\n",
       "      <th></th>\n",
       "      <th>Day</th>\n",
       "      <th>Cskplayed</th>\n",
       "      <th>Cskwon</th>\n",
       "      <th>Win%</th>\n",
       "      <th>Lose%</th>\n",
       "    </tr>\n",
       "  </thead>\n",
       "  <tbody>\n",
       "    <tr>\n",
       "      <th>0</th>\n",
       "      <td>Saturday</td>\n",
       "      <td>41</td>\n",
       "      <td>25</td>\n",
       "      <td>60.98</td>\n",
       "      <td>39.02</td>\n",
       "    </tr>\n",
       "    <tr>\n",
       "      <th>1</th>\n",
       "      <td>Sunday</td>\n",
       "      <td>38</td>\n",
       "      <td>20</td>\n",
       "      <td>52.63</td>\n",
       "      <td>47.37</td>\n",
       "    </tr>\n",
       "    <tr>\n",
       "      <th>2</th>\n",
       "      <td>Wednesday</td>\n",
       "      <td>24</td>\n",
       "      <td>16</td>\n",
       "      <td>66.67</td>\n",
       "      <td>33.33</td>\n",
       "    </tr>\n",
       "    <tr>\n",
       "      <th>3</th>\n",
       "      <td>Tuesday</td>\n",
       "      <td>24</td>\n",
       "      <td>16</td>\n",
       "      <td>66.67</td>\n",
       "      <td>33.33</td>\n",
       "    </tr>\n",
       "    <tr>\n",
       "      <th>4</th>\n",
       "      <td>Thursday</td>\n",
       "      <td>24</td>\n",
       "      <td>15</td>\n",
       "      <td>62.50</td>\n",
       "      <td>37.50</td>\n",
       "    </tr>\n",
       "    <tr>\n",
       "      <th>5</th>\n",
       "      <td>Friday</td>\n",
       "      <td>24</td>\n",
       "      <td>13</td>\n",
       "      <td>54.17</td>\n",
       "      <td>45.83</td>\n",
       "    </tr>\n",
       "    <tr>\n",
       "      <th>6</th>\n",
       "      <td>Monday</td>\n",
       "      <td>19</td>\n",
       "      <td>12</td>\n",
       "      <td>63.16</td>\n",
       "      <td>36.84</td>\n",
       "    </tr>\n",
       "  </tbody>\n",
       "</table>\n",
       "</div>"
      ],
      "text/plain": [
       "         Day  Cskplayed  Cskwon   Win%  Lose%\n",
       "0   Saturday         41      25  60.98  39.02\n",
       "1     Sunday         38      20  52.63  47.37\n",
       "2  Wednesday         24      16  66.67  33.33\n",
       "3    Tuesday         24      16  66.67  33.33\n",
       "4   Thursday         24      15  62.50  37.50\n",
       "5     Friday         24      13  54.17  45.83\n",
       "6     Monday         19      12  63.16  36.84"
      ]
     },
     "execution_count": 4,
     "metadata": {},
     "output_type": "execute_result"
    }
   ],
   "source": [
    "days = pd.read_csv('MatchDay.csv')\n",
    "days"
   ]
  },
  {
   "cell_type": "code",
   "execution_count": 5,
   "id": "d79fb674",
   "metadata": {},
   "outputs": [
    {
     "data": {
      "text/html": [
       "<div>\n",
       "<style scoped>\n",
       "    .dataframe tbody tr th:only-of-type {\n",
       "        vertical-align: middle;\n",
       "    }\n",
       "\n",
       "    .dataframe tbody tr th {\n",
       "        vertical-align: top;\n",
       "    }\n",
       "\n",
       "    .dataframe thead th {\n",
       "        text-align: right;\n",
       "    }\n",
       "</style>\n",
       "<table border=\"1\" class=\"dataframe\">\n",
       "  <thead>\n",
       "    <tr style=\"text-align: right;\">\n",
       "      <th></th>\n",
       "      <th>Opponent</th>\n",
       "      <th>CSKLost</th>\n",
       "      <th>CSKWon</th>\n",
       "      <th>CSKPlayed</th>\n",
       "      <th>Win%</th>\n",
       "      <th>Lose%</th>\n",
       "    </tr>\n",
       "  </thead>\n",
       "  <tbody>\n",
       "    <tr>\n",
       "      <th>0</th>\n",
       "      <td>Mumbai Indians</td>\n",
       "      <td>19</td>\n",
       "      <td>13</td>\n",
       "      <td>32</td>\n",
       "      <td>40.62</td>\n",
       "      <td>59.38</td>\n",
       "    </tr>\n",
       "    <tr>\n",
       "      <th>1</th>\n",
       "      <td>Rajasthan Royals</td>\n",
       "      <td>10</td>\n",
       "      <td>15</td>\n",
       "      <td>25</td>\n",
       "      <td>60.00</td>\n",
       "      <td>40.00</td>\n",
       "    </tr>\n",
       "    <tr>\n",
       "      <th>2</th>\n",
       "      <td>Punjab Kings</td>\n",
       "      <td>10</td>\n",
       "      <td>15</td>\n",
       "      <td>25</td>\n",
       "      <td>60.00</td>\n",
       "      <td>40.00</td>\n",
       "    </tr>\n",
       "    <tr>\n",
       "      <th>3</th>\n",
       "      <td>Delhi Capitals</td>\n",
       "      <td>10</td>\n",
       "      <td>16</td>\n",
       "      <td>26</td>\n",
       "      <td>61.54</td>\n",
       "      <td>38.46</td>\n",
       "    </tr>\n",
       "    <tr>\n",
       "      <th>4</th>\n",
       "      <td>Royal Challengers Bangalore</td>\n",
       "      <td>9</td>\n",
       "      <td>18</td>\n",
       "      <td>27</td>\n",
       "      <td>66.67</td>\n",
       "      <td>33.33</td>\n",
       "    </tr>\n",
       "    <tr>\n",
       "      <th>5</th>\n",
       "      <td>Sunrisers Hyderabad</td>\n",
       "      <td>8</td>\n",
       "      <td>18</td>\n",
       "      <td>26</td>\n",
       "      <td>69.23</td>\n",
       "      <td>30.77</td>\n",
       "    </tr>\n",
       "    <tr>\n",
       "      <th>6</th>\n",
       "      <td>Kolkata Knight Riders</td>\n",
       "      <td>8</td>\n",
       "      <td>17</td>\n",
       "      <td>25</td>\n",
       "      <td>68.00</td>\n",
       "      <td>32.00</td>\n",
       "    </tr>\n",
       "    <tr>\n",
       "      <th>7</th>\n",
       "      <td>Pune Warriors</td>\n",
       "      <td>2</td>\n",
       "      <td>4</td>\n",
       "      <td>6</td>\n",
       "      <td>66.67</td>\n",
       "      <td>33.33</td>\n",
       "    </tr>\n",
       "    <tr>\n",
       "      <th>8</th>\n",
       "      <td>Kochi Tuskers Kerala</td>\n",
       "      <td>1</td>\n",
       "      <td>1</td>\n",
       "      <td>2</td>\n",
       "      <td>50.00</td>\n",
       "      <td>50.00</td>\n",
       "    </tr>\n",
       "  </tbody>\n",
       "</table>\n",
       "</div>"
      ],
      "text/plain": [
       "                      Opponent  CSKLost  CSKWon  CSKPlayed   Win%  Lose%\n",
       "0               Mumbai Indians       19      13         32  40.62  59.38\n",
       "1             Rajasthan Royals       10      15         25  60.00  40.00\n",
       "2                 Punjab Kings       10      15         25  60.00  40.00\n",
       "3               Delhi Capitals       10      16         26  61.54  38.46\n",
       "4  Royal Challengers Bangalore        9      18         27  66.67  33.33\n",
       "5          Sunrisers Hyderabad        8      18         26  69.23  30.77\n",
       "6        Kolkata Knight Riders        8      17         25  68.00  32.00\n",
       "7                Pune Warriors        2       4          6  66.67  33.33\n",
       "8         Kochi Tuskers Kerala        1       1          2  50.00  50.00"
      ]
     },
     "execution_count": 5,
     "metadata": {},
     "output_type": "execute_result"
    }
   ],
   "source": [
    "teams = pd.read_csv('OppTeam.csv')\n",
    "teams"
   ]
  },
  {
   "cell_type": "markdown",
   "id": "79ed6a0a",
   "metadata": {},
   "source": [
    "### Significance Test for Pitch vs Win/Lose"
   ]
  },
  {
   "cell_type": "code",
   "execution_count": 8,
   "id": "1ada6606",
   "metadata": {},
   "outputs": [],
   "source": [
    "grnd = pd.pivot_table(pitch, index = ['Ground'], values = ['Win%', 'Lose%'])"
   ]
  },
  {
   "cell_type": "code",
   "execution_count": 9,
   "id": "a920e7ee",
   "metadata": {},
   "outputs": [],
   "source": [
    "from scipy.stats import chi2_contingency\n",
    "chi2, p, dof, tbl = chi2_contingency(grnd)"
   ]
  },
  {
   "cell_type": "code",
   "execution_count": 10,
   "id": "07b199b2",
   "metadata": {},
   "outputs": [
    {
     "data": {
      "text/plain": [
       "1102.1278515042427"
      ]
     },
     "execution_count": 10,
     "metadata": {},
     "output_type": "execute_result"
    }
   ],
   "source": [
    "chi2"
   ]
  },
  {
   "cell_type": "code",
   "execution_count": 11,
   "id": "9f27978f",
   "metadata": {},
   "outputs": [
    {
     "data": {
      "text/plain": [
       "7.936125606223482e-216"
      ]
     },
     "execution_count": 11,
     "metadata": {},
     "output_type": "execute_result"
    }
   ],
   "source": [
    "p"
   ]
  },
  {
   "cell_type": "code",
   "execution_count": 12,
   "id": "2bafda3d",
   "metadata": {},
   "outputs": [
    {
     "data": {
      "text/plain": [
       "26"
      ]
     },
     "execution_count": 12,
     "metadata": {},
     "output_type": "execute_result"
    }
   ],
   "source": [
    "dof"
   ]
  },
  {
   "cell_type": "code",
   "execution_count": 13,
   "id": "4f433e67",
   "metadata": {},
   "outputs": [
    {
     "data": {
      "text/plain": [
       "array([[50.86185185, 49.13814815],\n",
       "       [50.86185185, 49.13814815],\n",
       "       [50.86185185, 49.13814815],\n",
       "       [50.86185185, 49.13814815],\n",
       "       [50.86185185, 49.13814815],\n",
       "       [50.86185185, 49.13814815],\n",
       "       [50.86185185, 49.13814815],\n",
       "       [50.86185185, 49.13814815],\n",
       "       [50.86185185, 49.13814815],\n",
       "       [50.86185185, 49.13814815],\n",
       "       [50.86185185, 49.13814815],\n",
       "       [50.86185185, 49.13814815],\n",
       "       [50.86185185, 49.13814815],\n",
       "       [50.86185185, 49.13814815],\n",
       "       [50.86185185, 49.13814815],\n",
       "       [50.86185185, 49.13814815],\n",
       "       [50.86185185, 49.13814815],\n",
       "       [50.86185185, 49.13814815],\n",
       "       [50.86185185, 49.13814815],\n",
       "       [50.86185185, 49.13814815],\n",
       "       [50.86185185, 49.13814815],\n",
       "       [50.86185185, 49.13814815],\n",
       "       [50.86185185, 49.13814815],\n",
       "       [50.86185185, 49.13814815],\n",
       "       [50.86185185, 49.13814815],\n",
       "       [50.86185185, 49.13814815],\n",
       "       [50.86185185, 49.13814815]])"
      ]
     },
     "execution_count": 13,
     "metadata": {},
     "output_type": "execute_result"
    }
   ],
   "source": [
    "tbl"
   ]
  },
  {
   "cell_type": "code",
   "execution_count": 14,
   "id": "7ccb4f5d",
   "metadata": {},
   "outputs": [
    {
     "data": {
      "text/plain": [
       "45.64168266628317"
      ]
     },
     "execution_count": 14,
     "metadata": {},
     "output_type": "execute_result"
    }
   ],
   "source": [
    "stats.chi2.ppf(0.99,26)"
   ]
  },
  {
   "cell_type": "code",
   "execution_count": 15,
   "id": "d9e9ec09",
   "metadata": {
    "scrolled": false
   },
   "outputs": [
    {
     "data": {
      "text/plain": [
       "38.885138659830055"
      ]
     },
     "execution_count": 15,
     "metadata": {},
     "output_type": "execute_result"
    }
   ],
   "source": [
    "stats.chi2.ppf(0.95,26)"
   ]
  },
  {
   "cell_type": "markdown",
   "id": "f6f95dfe",
   "metadata": {},
   "source": [
    "### Significance Test for Pitch with min 4 matches played vs Win/Lose"
   ]
  },
  {
   "cell_type": "code",
   "execution_count": 35,
   "id": "e8435432",
   "metadata": {},
   "outputs": [],
   "source": [
    "grnd1 = pd.pivot_table(pitch[:13], index = ['Ground'], values = ['Win%', 'Lose%'])"
   ]
  },
  {
   "cell_type": "code",
   "execution_count": 39,
   "id": "69b547d8",
   "metadata": {},
   "outputs": [],
   "source": [
    "chi2, p, dof, tbl = chi2_contingency(grnd1)"
   ]
  },
  {
   "cell_type": "code",
   "execution_count": 40,
   "id": "a4ad9193",
   "metadata": {
    "scrolled": true
   },
   "outputs": [
    {
     "data": {
      "text/plain": [
       "46.908557996824555"
      ]
     },
     "execution_count": 40,
     "metadata": {},
     "output_type": "execute_result"
    }
   ],
   "source": [
    "chi2"
   ]
  },
  {
   "cell_type": "code",
   "execution_count": 41,
   "id": "1109a387",
   "metadata": {
    "scrolled": true
   },
   "outputs": [
    {
     "data": {
      "text/plain": [
       "12"
      ]
     },
     "execution_count": 41,
     "metadata": {},
     "output_type": "execute_result"
    }
   ],
   "source": [
    "dof"
   ]
  },
  {
   "cell_type": "code",
   "execution_count": 42,
   "id": "bf9ea2db",
   "metadata": {
    "scrolled": true
   },
   "outputs": [
    {
     "data": {
      "text/plain": [
       "26.216967305535853"
      ]
     },
     "execution_count": 42,
     "metadata": {},
     "output_type": "execute_result"
    }
   ],
   "source": [
    "stats.chi2.ppf(0.99,12)"
   ]
  },
  {
   "cell_type": "code",
   "execution_count": 43,
   "id": "bbf1f263",
   "metadata": {},
   "outputs": [
    {
     "data": {
      "text/plain": [
       "21.02606981748307"
      ]
     },
     "execution_count": 43,
     "metadata": {},
     "output_type": "execute_result"
    }
   ],
   "source": [
    "stats.chi2.ppf(0.95,12)"
   ]
  },
  {
   "cell_type": "markdown",
   "id": "6eed7598",
   "metadata": {},
   "source": [
    "### Significance Test for Match Days vs Win/Lose"
   ]
  },
  {
   "cell_type": "code",
   "execution_count": 17,
   "id": "4ee5df2d",
   "metadata": {},
   "outputs": [],
   "source": [
    "Days = pd.pivot_table(days, index = ['Day'], values = ['Win%', 'Lose%'])"
   ]
  },
  {
   "cell_type": "code",
   "execution_count": 18,
   "id": "0df41cf5",
   "metadata": {},
   "outputs": [],
   "source": [
    "chi2, p, dof, tbl = chi2_contingency(Days)"
   ]
  },
  {
   "cell_type": "code",
   "execution_count": 19,
   "id": "5769c11f",
   "metadata": {},
   "outputs": [
    {
     "data": {
      "text/plain": [
       "7.8965180718978"
      ]
     },
     "execution_count": 19,
     "metadata": {},
     "output_type": "execute_result"
    }
   ],
   "source": [
    "chi2"
   ]
  },
  {
   "cell_type": "code",
   "execution_count": 20,
   "id": "6c4bfedb",
   "metadata": {},
   "outputs": [
    {
     "data": {
      "text/plain": [
       "0.24578313991072456"
      ]
     },
     "execution_count": 20,
     "metadata": {},
     "output_type": "execute_result"
    }
   ],
   "source": [
    "p"
   ]
  },
  {
   "cell_type": "code",
   "execution_count": 21,
   "id": "a76065f2",
   "metadata": {},
   "outputs": [
    {
     "data": {
      "text/plain": [
       "6"
      ]
     },
     "execution_count": 21,
     "metadata": {},
     "output_type": "execute_result"
    }
   ],
   "source": [
    "dof"
   ]
  },
  {
   "cell_type": "code",
   "execution_count": 22,
   "id": "51c7122b",
   "metadata": {},
   "outputs": [
    {
     "data": {
      "text/plain": [
       "array([[39.03142857, 60.96857143],\n",
       "       [39.03142857, 60.96857143],\n",
       "       [39.03142857, 60.96857143],\n",
       "       [39.03142857, 60.96857143],\n",
       "       [39.03142857, 60.96857143],\n",
       "       [39.03142857, 60.96857143],\n",
       "       [39.03142857, 60.96857143]])"
      ]
     },
     "execution_count": 22,
     "metadata": {},
     "output_type": "execute_result"
    }
   ],
   "source": [
    "tbl"
   ]
  },
  {
   "cell_type": "code",
   "execution_count": 23,
   "id": "8a65e429",
   "metadata": {},
   "outputs": [
    {
     "data": {
      "text/plain": [
       "12.591587243743977"
      ]
     },
     "execution_count": 23,
     "metadata": {},
     "output_type": "execute_result"
    }
   ],
   "source": [
    "stats.chi2.ppf(0.95,6)"
   ]
  },
  {
   "cell_type": "code",
   "execution_count": 24,
   "id": "fb5753e3",
   "metadata": {},
   "outputs": [
    {
     "data": {
      "text/plain": [
       "16.811893829770927"
      ]
     },
     "execution_count": 24,
     "metadata": {},
     "output_type": "execute_result"
    }
   ],
   "source": [
    "stats.chi2.ppf(0.99,6)"
   ]
  },
  {
   "cell_type": "markdown",
   "id": "e72993c8",
   "metadata": {},
   "source": [
    "### Significance Test for Teams vs Win/Lose"
   ]
  },
  {
   "cell_type": "code",
   "execution_count": 25,
   "id": "286171aa",
   "metadata": {},
   "outputs": [],
   "source": [
    "Opp = pd.pivot_table(teams, index = ['Opponent'], values = ['Win%', 'Lose%'])"
   ]
  },
  {
   "cell_type": "code",
   "execution_count": 26,
   "id": "2ec29a8a",
   "metadata": {},
   "outputs": [],
   "source": [
    "chi2, p, dof, tbl = chi2_contingency(Opp)"
   ]
  },
  {
   "cell_type": "code",
   "execution_count": 27,
   "id": "cbf67e65",
   "metadata": {},
   "outputs": [
    {
     "data": {
      "text/plain": [
       "29.880785888347127"
      ]
     },
     "execution_count": 27,
     "metadata": {},
     "output_type": "execute_result"
    }
   ],
   "source": [
    "chi2   # Calculated Chi2"
   ]
  },
  {
   "cell_type": "code",
   "execution_count": 28,
   "id": "b931b781",
   "metadata": {},
   "outputs": [
    {
     "data": {
      "text/plain": [
       "0.00022188348869309768"
      ]
     },
     "execution_count": 28,
     "metadata": {},
     "output_type": "execute_result"
    }
   ],
   "source": [
    "p"
   ]
  },
  {
   "cell_type": "code",
   "execution_count": 31,
   "id": "1678db6d",
   "metadata": {},
   "outputs": [
    {
     "data": {
      "text/plain": [
       "8"
      ]
     },
     "execution_count": 31,
     "metadata": {},
     "output_type": "execute_result"
    }
   ],
   "source": [
    "dof"
   ]
  },
  {
   "cell_type": "code",
   "execution_count": 32,
   "id": "9c29d1e3",
   "metadata": {},
   "outputs": [
    {
     "data": {
      "text/plain": [
       "array([[39.69666667, 60.30333333],\n",
       "       [39.69666667, 60.30333333],\n",
       "       [39.69666667, 60.30333333],\n",
       "       [39.69666667, 60.30333333],\n",
       "       [39.69666667, 60.30333333],\n",
       "       [39.69666667, 60.30333333],\n",
       "       [39.69666667, 60.30333333],\n",
       "       [39.69666667, 60.30333333],\n",
       "       [39.69666667, 60.30333333]])"
      ]
     },
     "execution_count": 32,
     "metadata": {},
     "output_type": "execute_result"
    }
   ],
   "source": [
    "# Expected Frequencies\n",
    "tbl"
   ]
  },
  {
   "cell_type": "code",
   "execution_count": 33,
   "id": "c6be610c",
   "metadata": {},
   "outputs": [
    {
     "data": {
      "text/plain": [
       "15.50731305586545"
      ]
     },
     "execution_count": 33,
     "metadata": {},
     "output_type": "execute_result"
    }
   ],
   "source": [
    "stats.chi2.ppf(0.95,8)   # Chi2 for 5% level of significance, dof = 8"
   ]
  },
  {
   "cell_type": "code",
   "execution_count": 34,
   "id": "0266d909",
   "metadata": {},
   "outputs": [
    {
     "data": {
      "text/plain": [
       "20.090235029663233"
      ]
     },
     "execution_count": 34,
     "metadata": {},
     "output_type": "execute_result"
    }
   ],
   "source": [
    "stats.chi2.ppf(0.99,8)   # Chi2 for 1% level of significance, dof =  8 "
   ]
  },
  {
   "cell_type": "code",
   "execution_count": null,
   "id": "338c5b6f",
   "metadata": {},
   "outputs": [],
   "source": []
  }
 ],
 "metadata": {
  "kernelspec": {
   "display_name": "Python 3 (ipykernel)",
   "language": "python",
   "name": "python3"
  },
  "language_info": {
   "codemirror_mode": {
    "name": "ipython",
    "version": 3
   },
   "file_extension": ".py",
   "mimetype": "text/x-python",
   "name": "python",
   "nbconvert_exporter": "python",
   "pygments_lexer": "ipython3",
   "version": "3.7.9"
  }
 },
 "nbformat": 4,
 "nbformat_minor": 5
}
