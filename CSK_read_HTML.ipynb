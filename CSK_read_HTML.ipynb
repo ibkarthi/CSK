{
 "cells": [
  {
   "cell_type": "code",
   "execution_count": 1,
   "id": "31239f86",
   "metadata": {},
   "outputs": [],
   "source": [
    "import pandas as pd"
   ]
  },
  {
   "cell_type": "code",
   "execution_count": 2,
   "id": "13a66fa2",
   "metadata": {},
   "outputs": [],
   "source": [
    "t20 = pd.read_html('http://www.howstat.com/cricket/Statistics/IPL/SeriesMatches.asp?s=2008')"
   ]
  },
  {
   "cell_type": "code",
   "execution_count": 3,
   "id": "a2fca78e",
   "metadata": {},
   "outputs": [
    {
     "data": {
      "text/plain": [
       "7"
      ]
     },
     "execution_count": 3,
     "metadata": {},
     "output_type": "execute_result"
    }
   ],
   "source": [
    "len(t20)"
   ]
  },
  {
   "cell_type": "code",
   "execution_count": 4,
   "id": "0af5e40b",
   "metadata": {},
   "outputs": [
    {
     "data": {
      "text/html": [
       "<div>\n",
       "<style scoped>\n",
       "    .dataframe tbody tr th:only-of-type {\n",
       "        vertical-align: middle;\n",
       "    }\n",
       "\n",
       "    .dataframe tbody tr th {\n",
       "        vertical-align: top;\n",
       "    }\n",
       "\n",
       "    .dataframe thead th {\n",
       "        text-align: right;\n",
       "    }\n",
       "</style>\n",
       "<table border=\"1\" class=\"dataframe\">\n",
       "  <thead>\n",
       "    <tr style=\"text-align: right;\">\n",
       "      <th></th>\n",
       "      <th>0</th>\n",
       "    </tr>\n",
       "  </thead>\n",
       "  <tbody>\n",
       "    <tr>\n",
       "      <th>0</th>\n",
       "      <td>Match  Date  Teams  Ground  Result  1  18/04/2...</td>\n",
       "    </tr>\n",
       "  </tbody>\n",
       "</table>\n",
       "</div>"
      ],
      "text/plain": [
       "                                                   0\n",
       "0  Match  Date  Teams  Ground  Result  1  18/04/2..."
      ]
     },
     "execution_count": 4,
     "metadata": {},
     "output_type": "execute_result"
    }
   ],
   "source": [
    "t20[3]"
   ]
  },
  {
   "cell_type": "code",
   "execution_count": 5,
   "id": "251f948f",
   "metadata": {},
   "outputs": [
    {
     "data": {
      "text/html": [
       "<div>\n",
       "<style scoped>\n",
       "    .dataframe tbody tr th:only-of-type {\n",
       "        vertical-align: middle;\n",
       "    }\n",
       "\n",
       "    .dataframe tbody tr th {\n",
       "        vertical-align: top;\n",
       "    }\n",
       "\n",
       "    .dataframe thead th {\n",
       "        text-align: right;\n",
       "    }\n",
       "</style>\n",
       "<table border=\"1\" class=\"dataframe\">\n",
       "  <thead>\n",
       "    <tr style=\"text-align: right;\">\n",
       "      <th></th>\n",
       "      <th>0</th>\n",
       "    </tr>\n",
       "  </thead>\n",
       "  <tbody>\n",
       "    <tr>\n",
       "      <th>0</th>\n",
       "      <td>Match  Date  Teams  Ground  Result  1  18/04/2...</td>\n",
       "    </tr>\n",
       "  </tbody>\n",
       "</table>\n",
       "</div>"
      ],
      "text/plain": [
       "                                                   0\n",
       "0  Match  Date  Teams  Ground  Result  1  18/04/2..."
      ]
     },
     "execution_count": 5,
     "metadata": {},
     "output_type": "execute_result"
    }
   ],
   "source": [
    "t20[4]"
   ]
  },
  {
   "cell_type": "code",
   "execution_count": 10,
   "id": "fbd0b248",
   "metadata": {
    "scrolled": false
   },
   "outputs": [
    {
     "data": {
      "text/html": [
       "<div>\n",
       "<style scoped>\n",
       "    .dataframe tbody tr th:only-of-type {\n",
       "        vertical-align: middle;\n",
       "    }\n",
       "\n",
       "    .dataframe tbody tr th {\n",
       "        vertical-align: top;\n",
       "    }\n",
       "\n",
       "    .dataframe thead th {\n",
       "        text-align: right;\n",
       "    }\n",
       "</style>\n",
       "<table border=\"1\" class=\"dataframe\">\n",
       "  <thead>\n",
       "    <tr style=\"text-align: right;\">\n",
       "      <th></th>\n",
       "      <th>Match</th>\n",
       "      <th>Date</th>\n",
       "      <th>Teams</th>\n",
       "      <th>Ground</th>\n",
       "      <th>Result</th>\n",
       "      <th>NaN</th>\n",
       "    </tr>\n",
       "  </thead>\n",
       "  <tbody>\n",
       "    <tr>\n",
       "      <th>1</th>\n",
       "      <td>1</td>\n",
       "      <td>18/04/2008</td>\n",
       "      <td>Royal Challengers Bangalore v Kolkata Knight R...</td>\n",
       "      <td>Bengaluru, Bangalore</td>\n",
       "      <td>Kolkata Knight Riders won by 140 Runs</td>\n",
       "      <td>Scorecard</td>\n",
       "    </tr>\n",
       "    <tr>\n",
       "      <th>2</th>\n",
       "      <td>2</td>\n",
       "      <td>19/04/2008</td>\n",
       "      <td>Punjab Kings v Chennai Super Kings</td>\n",
       "      <td>Mohali, Chandigarh</td>\n",
       "      <td>Chennai Super Kings won by 33 Runs</td>\n",
       "      <td>Scorecard</td>\n",
       "    </tr>\n",
       "    <tr>\n",
       "      <th>3</th>\n",
       "      <td>3</td>\n",
       "      <td>19/04/2008</td>\n",
       "      <td>Delhi Capitals v Rajasthan Royals</td>\n",
       "      <td>Delhi</td>\n",
       "      <td>Delhi Capitals won by 9 Wickets</td>\n",
       "      <td>Scorecard</td>\n",
       "    </tr>\n",
       "    <tr>\n",
       "      <th>4</th>\n",
       "      <td>4</td>\n",
       "      <td>20/04/2008</td>\n",
       "      <td>Kolkata Knight Riders v Deccan Chargers</td>\n",
       "      <td>Kolkata</td>\n",
       "      <td>Kolkata Knight Riders won by 5 Wickets</td>\n",
       "      <td>Scorecard</td>\n",
       "    </tr>\n",
       "    <tr>\n",
       "      <th>5</th>\n",
       "      <td>5</td>\n",
       "      <td>20/04/2008</td>\n",
       "      <td>Mumbai Indians v Royal Challengers Bangalore</td>\n",
       "      <td>Mumbai</td>\n",
       "      <td>Royal Challengers Bangalore won by 5 Wickets</td>\n",
       "      <td>Scorecard</td>\n",
       "    </tr>\n",
       "  </tbody>\n",
       "</table>\n",
       "</div>"
      ],
      "text/plain": [
       "0 Match        Date                                              Teams  \\\n",
       "1     1  18/04/2008  Royal Challengers Bangalore v Kolkata Knight R...   \n",
       "2     2  19/04/2008                 Punjab Kings v Chennai Super Kings   \n",
       "3     3  19/04/2008                  Delhi Capitals v Rajasthan Royals   \n",
       "4     4  20/04/2008            Kolkata Knight Riders v Deccan Chargers   \n",
       "5     5  20/04/2008       Mumbai Indians v Royal Challengers Bangalore   \n",
       "\n",
       "0                Ground                                        Result  \\\n",
       "1  Bengaluru, Bangalore         Kolkata Knight Riders won by 140 Runs   \n",
       "2    Mohali, Chandigarh            Chennai Super Kings won by 33 Runs   \n",
       "3                 Delhi               Delhi Capitals won by 9 Wickets   \n",
       "4               Kolkata        Kolkata Knight Riders won by 5 Wickets   \n",
       "5                Mumbai  Royal Challengers Bangalore won by 5 Wickets   \n",
       "\n",
       "0        NaN  \n",
       "1  Scorecard  \n",
       "2  Scorecard  \n",
       "3  Scorecard  \n",
       "4  Scorecard  \n",
       "5  Scorecard  "
      ]
     },
     "execution_count": 10,
     "metadata": {},
     "output_type": "execute_result"
    }
   ],
   "source": [
    "new_header = ipl2008.iloc[0]\n",
    "ipl2008 = ipl2008.iloc[1:]\n",
    "ipl2008.columns = new_header\n",
    "ipl2008.head()"
   ]
  },
  {
   "cell_type": "code",
   "execution_count": 2,
   "id": "2ee58dcd",
   "metadata": {},
   "outputs": [],
   "source": [
    "url = 'http://www.howstat.com/cricket/Statistics/IPL/SeriesMatches.asp?s'"
   ]
  },
  {
   "cell_type": "code",
   "execution_count": 3,
   "id": "68fe2a05",
   "metadata": {},
   "outputs": [],
   "source": [
    "def get_table(year, url=url):\n",
    "    year_url = f'{url}={year}'\n",
    "    \n",
    "    df = pd.read_html(year_url)\n",
    "    df = df[5]\n",
    "    new_header = df.iloc[0]\n",
    "    df = df.iloc[1:]\n",
    "    df.columns = new_header\n",
    "    \n",
    "    return df"
   ]
  },
  {
   "cell_type": "code",
   "execution_count": 4,
   "id": "c937747f",
   "metadata": {},
   "outputs": [],
   "source": [
    "ipl = pd.DataFrame()"
   ]
  },
  {
   "cell_type": "code",
   "execution_count": 5,
   "id": "47d38729",
   "metadata": {},
   "outputs": [],
   "source": [
    "for year in range(2008, 2022):\n",
    "    table = get_table(year)\n",
    "    ipl = ipl.append(table)"
   ]
  },
  {
   "cell_type": "code",
   "execution_count": 6,
   "id": "b9819c24",
   "metadata": {},
   "outputs": [
    {
     "data": {
      "text/html": [
       "<div>\n",
       "<style scoped>\n",
       "    .dataframe tbody tr th:only-of-type {\n",
       "        vertical-align: middle;\n",
       "    }\n",
       "\n",
       "    .dataframe tbody tr th {\n",
       "        vertical-align: top;\n",
       "    }\n",
       "\n",
       "    .dataframe thead th {\n",
       "        text-align: right;\n",
       "    }\n",
       "</style>\n",
       "<table border=\"1\" class=\"dataframe\">\n",
       "  <thead>\n",
       "    <tr style=\"text-align: right;\">\n",
       "      <th></th>\n",
       "      <th>Match</th>\n",
       "      <th>Date</th>\n",
       "      <th>Teams</th>\n",
       "      <th>Ground</th>\n",
       "      <th>Result</th>\n",
       "      <th>NaN</th>\n",
       "    </tr>\n",
       "  </thead>\n",
       "  <tbody>\n",
       "    <tr>\n",
       "      <th>1</th>\n",
       "      <td>1</td>\n",
       "      <td>18/04/2008</td>\n",
       "      <td>Royal Challengers Bangalore v Kolkata Knight R...</td>\n",
       "      <td>Bengaluru, Bangalore</td>\n",
       "      <td>Kolkata Knight Riders won by 140 Runs</td>\n",
       "      <td>Scorecard</td>\n",
       "    </tr>\n",
       "    <tr>\n",
       "      <th>2</th>\n",
       "      <td>2</td>\n",
       "      <td>19/04/2008</td>\n",
       "      <td>Punjab Kings v Chennai Super Kings</td>\n",
       "      <td>Mohali, Chandigarh</td>\n",
       "      <td>Chennai Super Kings won by 33 Runs</td>\n",
       "      <td>Scorecard</td>\n",
       "    </tr>\n",
       "    <tr>\n",
       "      <th>3</th>\n",
       "      <td>3</td>\n",
       "      <td>19/04/2008</td>\n",
       "      <td>Delhi Capitals v Rajasthan Royals</td>\n",
       "      <td>Delhi</td>\n",
       "      <td>Delhi Capitals won by 9 Wickets</td>\n",
       "      <td>Scorecard</td>\n",
       "    </tr>\n",
       "    <tr>\n",
       "      <th>4</th>\n",
       "      <td>4</td>\n",
       "      <td>20/04/2008</td>\n",
       "      <td>Kolkata Knight Riders v Deccan Chargers</td>\n",
       "      <td>Kolkata</td>\n",
       "      <td>Kolkata Knight Riders won by 5 Wickets</td>\n",
       "      <td>Scorecard</td>\n",
       "    </tr>\n",
       "    <tr>\n",
       "      <th>5</th>\n",
       "      <td>5</td>\n",
       "      <td>20/04/2008</td>\n",
       "      <td>Mumbai Indians v Royal Challengers Bangalore</td>\n",
       "      <td>Mumbai</td>\n",
       "      <td>Royal Challengers Bangalore won by 5 Wickets</td>\n",
       "      <td>Scorecard</td>\n",
       "    </tr>\n",
       "  </tbody>\n",
       "</table>\n",
       "</div>"
      ],
      "text/plain": [
       "0 Match        Date                                              Teams  \\\n",
       "1     1  18/04/2008  Royal Challengers Bangalore v Kolkata Knight R...   \n",
       "2     2  19/04/2008                 Punjab Kings v Chennai Super Kings   \n",
       "3     3  19/04/2008                  Delhi Capitals v Rajasthan Royals   \n",
       "4     4  20/04/2008            Kolkata Knight Riders v Deccan Chargers   \n",
       "5     5  20/04/2008       Mumbai Indians v Royal Challengers Bangalore   \n",
       "\n",
       "0                Ground                                        Result  \\\n",
       "1  Bengaluru, Bangalore         Kolkata Knight Riders won by 140 Runs   \n",
       "2    Mohali, Chandigarh            Chennai Super Kings won by 33 Runs   \n",
       "3                 Delhi               Delhi Capitals won by 9 Wickets   \n",
       "4               Kolkata        Kolkata Knight Riders won by 5 Wickets   \n",
       "5                Mumbai  Royal Challengers Bangalore won by 5 Wickets   \n",
       "\n",
       "0        NaN  \n",
       "1  Scorecard  \n",
       "2  Scorecard  \n",
       "3  Scorecard  \n",
       "4  Scorecard  \n",
       "5  Scorecard  "
      ]
     },
     "execution_count": 6,
     "metadata": {},
     "output_type": "execute_result"
    }
   ],
   "source": [
    "ipl.head()"
   ]
  },
  {
   "cell_type": "code",
   "execution_count": 2,
   "id": "b7a2473f",
   "metadata": {},
   "outputs": [],
   "source": [
    "import numpy as np"
   ]
  },
  {
   "cell_type": "code",
   "execution_count": 8,
   "id": "e1df4e9f",
   "metadata": {
    "scrolled": true
   },
   "outputs": [],
   "source": [
    "ipl.drop(np.nan, axis = 1, inplace = True)"
   ]
  },
  {
   "cell_type": "code",
   "execution_count": 9,
   "id": "ab5de0a3",
   "metadata": {},
   "outputs": [
    {
     "data": {
      "text/plain": [
       "(884, 5)"
      ]
     },
     "execution_count": 9,
     "metadata": {},
     "output_type": "execute_result"
    }
   ],
   "source": [
    "ipl.shape"
   ]
  },
  {
   "cell_type": "code",
   "execution_count": 27,
   "id": "3361e1ea",
   "metadata": {},
   "outputs": [],
   "source": [
    "ipl.to_csv('ipl_t20(html).csv', index = False)"
   ]
  },
  {
   "cell_type": "code",
   "execution_count": null,
   "id": "ec8e96ca",
   "metadata": {},
   "outputs": [],
   "source": []
  }
 ],
 "metadata": {
  "kernelspec": {
   "display_name": "Python 3 (ipykernel)",
   "language": "python",
   "name": "python3"
  },
  "language_info": {
   "codemirror_mode": {
    "name": "ipython",
    "version": 3
   },
   "file_extension": ".py",
   "mimetype": "text/x-python",
   "name": "python",
   "nbconvert_exporter": "python",
   "pygments_lexer": "ipython3",
   "version": "3.7.9"
  }
 },
 "nbformat": 4,
 "nbformat_minor": 5
}
